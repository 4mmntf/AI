{
 "cells": [
  {
   "attachments": {},
   "cell_type": "markdown",
   "metadata": {},
   "source": [
    "枝分かれしていく木のような構造を持つため、このような図を決定木と呼びこれを用いたデータ分析を決定木分析と呼ぶ  \n",
    "クラスの予測がしたい場合は決定木分析  \n",
    "数値の予測がしたいなら回帰分析  "
   ]
  },
  {
   "cell_type": "code",
   "execution_count": null,
   "metadata": {},
   "outputs": [],
   "source": [
    "import pandas as pd\n",
    "import numpy as np"
   ]
  },
  {
   "cell_type": "code",
   "execution_count": null,
   "metadata": {},
   "outputs": [],
   "source": [
    "#分類\n",
    "df_past = pd.read_csv(\"csvファイル\")\n",
    "df_future = pd.read_csv(\"csvファイル\")\n",
    "\n",
    "X_name = [\"変数名\"]\n",
    "y_name = [\"変数名\"]\n",
    "X = df_past[X_name]\n",
    "y = df_past[y_name]"
   ]
  },
  {
   "cell_type": "code",
   "execution_count": null,
   "metadata": {},
   "outputs": [],
   "source": [
    "from sklearn import tree\n",
    "from dtreevix.trees import *\n",
    "import graphviz"
   ]
  },
  {
   "attachments": {},
   "cell_type": "markdown",
   "metadata": {},
   "source": [
    "分類をするときはtree.DecisionTreeClassifier()を使う"
   ]
  },
  {
   "cell_type": "code",
   "execution_count": null,
   "metadata": {},
   "outputs": [],
   "source": [
    "dtree = tree.DecisionTreeClassifier(max_depth=\"深さ\")\n",
    "dtree.fit(X,Y)\n",
    "\n",
    "viz = dtreeviz(dtree,X,y,target_name = y_name,feature_names = X_name,class_name = [\"目的変数\",\"目的変数の逆\"],X = [\"数値\"])"
   ]
  },
  {
   "attachments": {},
   "cell_type": "markdown",
   "metadata": {},
   "source": [
    "木の深さが深すぎても読み取ることが難しくなってしまうので、適度な深さにしよう  \n",
    "X = [\"数値\"]、X_nameで使った変数名に数値を入れるとその数値の場合にどう分類されるかわかる"
   ]
  },
  {
   "cell_type": "code",
   "execution_count": null,
   "metadata": {},
   "outputs": [],
   "source": [
    "dtree.predict(df_future)"
   ]
  },
  {
   "cell_type": "code",
   "execution_count": null,
   "metadata": {},
   "outputs": [],
   "source": [
    "#回帰\n",
    "df_past = pd.read_csv(\"csvファイル\")\n",
    "df_future = pd.read_csv(\"csvファイル\")\n",
    "\n",
    "X_name = [\"変数名\"]\n",
    "y_name = [\"変数名\"]\n",
    "X = df_past[X_name]\n",
    "y = df_past[y_name]"
   ]
  },
  {
   "attachments": {},
   "cell_type": "markdown",
   "metadata": {},
   "source": [
    "回帰をするときはtree.DecisionTreeRegressor()を使う"
   ]
  },
  {
   "cell_type": "code",
   "execution_count": null,
   "metadata": {},
   "outputs": [],
   "source": [
    "dtree = tree.DecisionTreeRegressor(max_depth=\"深さ\")\n",
    "dtree.fit(X,Y)\n",
    "\n",
    "viz = dtreeviz(dtree,X,y,target_name = y_name,feature_names = X_name,)"
   ]
  }
 ],
 "metadata": {
  "kernelspec": {
   "display_name": "base",
   "language": "python",
   "name": "python3"
  },
  "language_info": {
   "name": "python",
   "version": "3.9.12 (main, Apr  4 2022, 05:22:27) [MSC v.1916 64 bit (AMD64)]"
  },
  "orig_nbformat": 4,
  "vscode": {
   "interpreter": {
    "hash": "b4d0e632781729ed6de5ccbeaa14892c6a1563827ea6e6c7a8a5612e0cebf40d"
   }
  }
 },
 "nbformat": 4,
 "nbformat_minor": 2
}
