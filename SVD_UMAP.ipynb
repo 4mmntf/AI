{
 "cells": [
  {
   "cell_type": "code",
   "execution_count": null,
   "metadata": {},
   "outputs": [],
   "source": [
    "import pandas as pd\n",
    "import seaborn as sns\n",
    "import matplotlib.pyplot as plt\n",
    "\n",
    "df = pd.read_csv(\"\")"
   ]
  },
  {
   "cell_type": "code",
   "execution_count": null,
   "metadata": {},
   "outputs": [],
   "source": [
    "from sklearn.decomposition import TruncatedSVD\n",
    "\n",
    "model_svd = TruncatedSVD(n_components=2)\n",
    "vecs_list = model_svd.fit_transfrom(df)"
   ]
  },
  {
   "cell_type": "code",
   "execution_count": null,
   "metadata": {},
   "outputs": [],
   "source": [
    "import umap.umap_ as umap\n",
    "from scipy.sparse.csgraph import connected_components\n",
    "\n",
    "model_svd = umap.UMAP(n_components=2,n_neighbors=10)\n",
    "vecs_list = model_umap.fit_transfrom(df)"
   ]
  },
  {
   "cell_type": "code",
   "execution_count": null,
   "metadata": {},
   "outputs": [],
   "source": [
    "vecs_list\n",
    "X=vecs_list[:,0]\n",
    "Y=vecs_list[:,1]"
   ]
  },
  {
   "cell_type": "code",
   "execution_count": null,
   "metadata": {},
   "outputs": [],
   "source": [
    "sns.set(font=\"Hiragino Maru Gothic Pro\")\n",
    "plt.figure(figsize=(6,6))\n",
    "sns.scatterplot(x=X,y=Y)\n",
    "\n",
    "for i,(annot_x,annot_y) in enumerate(zip(X,Y)):\n",
    "    plt.annotate(df.index[i],(annot_x,annot_y))"
   ]
  },
  {
   "cell_type": "code",
   "execution_count": null,
   "metadata": {},
   "outputs": [],
   "source": [
    "model_svd.components_\n",
    "sns.set(font=\"Hiragino Maru Gothic Pro\")\n",
    "plt.figure(figsize=(6,6))\n",
    "sns.scatterplot(x=X,y=Y)\n",
    "\n",
    "for i,(annot_x,annot_y) in enumerate(zip(X,Y)):\n",
    "    plt.annotate(df.index[i],(annot_x,annot_y))"
   ]
  },
  {
   "cell_type": "code",
   "execution_count": null,
   "metadata": {},
   "outputs": [],
   "source": [
    "model_svd.explained_variance_ratio_"
   ]
  },
  {
   "cell_type": "code",
   "execution_count": null,
   "metadata": {},
   "outputs": [],
   "source": []
  }
 ],
 "metadata": {
  "kernelspec": {
   "display_name": "base",
   "language": "python",
   "name": "python3"
  },
  "language_info": {
   "codemirror_mode": {
    "name": "ipython",
    "version": 3
   },
   "file_extension": ".py",
   "mimetype": "text/x-python",
   "name": "python",
   "nbconvert_exporter": "python",
   "pygments_lexer": "ipython3",
   "version": "3.9.12 (main, Apr  4 2022, 05:22:27) [MSC v.1916 64 bit (AMD64)]"
  },
  "orig_nbformat": 4,
  "vscode": {
   "interpreter": {
    "hash": "b4d0e632781729ed6de5ccbeaa14892c6a1563827ea6e6c7a8a5612e0cebf40d"
   }
  }
 },
 "nbformat": 4,
 "nbformat_minor": 2
}
