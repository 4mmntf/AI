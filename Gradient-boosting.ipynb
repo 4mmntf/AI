{
 "cells": [
  {
   "attachments": {},
   "cell_type": "markdown",
   "metadata": {},
   "source": [
    "ランダムフォレストと同じく決定木を作るがランダムフォレストのバギングとは違うブースティングという方法を使っている  \n",
    "作った決定木を調整した決定木を作り確認して修正を繰り返す手法である"
   ]
  },
  {
   "cell_type": "code",
   "execution_count": null,
   "metadata": {},
   "outputs": [],
   "source": [
    "#データの取得(分類)\n",
    "from sklearn.datasets import load_breast_cancer\n",
    "\n",
    "dataset = load_breast_cancer()\n",
    "\n",
    "X = dataset.data\n",
    "y = dataset.target"
   ]
  },
  {
   "cell_type": "code",
   "execution_count": null,
   "metadata": {},
   "outputs": [],
   "source": [
    "import xgboost as xgb\n",
    "from sklearn.model_selection import cross_validate, KFold\n",
    "\n",
    "model_XGB = xgb.XGBClassifier(objective=\"binary:logstic\",max_depth=1,use_label_encoder=False)\n",
    "\n",
    "kf = KFold(n_splits=5, shuffle=True)\n",
    "score = cross_validate(model_XGB,X,y,cv=kf,scoring=[\"accuracy\"],return_estimator=True)"
   ]
  },
  {
   "attachments": {},
   "cell_type": "markdown",
   "metadata": {},
   "source": [
    "Cross Validation(クロスバリデーション法:K-分割交差検証)  \n",
    "分割するテストデータの場所を変えながら分割していく\n",
    "特異なデータによる正確性の損失を防ぐことができる"
   ]
  },
  {
   "cell_type": "code",
   "execution_count": null,
   "metadata": {},
   "outputs": [],
   "source": [
    "score[\"test_accuracy\"].mean()"
   ]
  },
  {
   "cell_type": "code",
   "execution_count": null,
   "metadata": {},
   "outputs": [],
   "source": [
    "import pandas as pd\n",
    "import numpy as np\n",
    "mean_score = np.mean([score[\"estimator\"][i].feature_importances_ for i in range(5)],axis=0) \n",
    "pd.DataFrame({\"説明変数\":dataset.feature_names,\"重要度\":model_RF.feature_importances_}) .sort_values(\"重要度\",ascending=False)"
   ]
  },
  {
   "cell_type": "code",
   "execution_count": null,
   "metadata": {},
   "outputs": [],
   "source": []
  },
  {
   "cell_type": "code",
   "execution_count": null,
   "metadata": {},
   "outputs": [],
   "source": [
    "#データの取得(回帰)\n",
    "from sklearn.datasets import load_boston\n",
    "\n",
    "dataset = load_boston()\n",
    "\n",
    "X = dataset.data\n",
    "y = dataset.target"
   ]
  },
  {
   "cell_type": "code",
   "execution_count": null,
   "metadata": {},
   "outputs": [],
   "source": [
    "import xgboost as xgb\n",
    "from sklearn.model_selection import cross_validate, KFold\n",
    "\n",
    "model_XGB = xgb.XGBClassifier(objective=\"reg:squarederror\",max_depth=1,use_label_encoder=False)\n",
    "\n",
    "kf = KFold(n_splits=5, shuffle=True)\n",
    "score = cross_validate(model_XGB,X,y,cv=kf,scoring=[\"neg_mean_absolute_error\"],return_estimator=True)"
   ]
  },
  {
   "cell_type": "code",
   "execution_count": null,
   "metadata": {},
   "outputs": [],
   "source": [
    "import pandas as pd\n",
    "import numpy as np\n",
    "mean_score = np.mean([score[\"estimator\"][i].feature_importances_ for i in range(5)],axis=0) \n",
    "pd.DataFrame({\"説明変数\":dataset.feature_names,\"重要度\":model_XGB.feature_importances_}) .sort_values(\"重要度\",ascending=False)\n"
   ]
  }
 ],
 "metadata": {
  "kernelspec": {
   "display_name": "base",
   "language": "python",
   "name": "python3"
  },
  "language_info": {
   "codemirror_mode": {
    "name": "ipython",
    "version": 3
   },
   "file_extension": ".py",
   "mimetype": "text/x-python",
   "name": "python",
   "nbconvert_exporter": "python",
   "pygments_lexer": "ipython3",
   "version": "3.9.12"
  },
  "orig_nbformat": 4,
  "vscode": {
   "interpreter": {
    "hash": "b4d0e632781729ed6de5ccbeaa14892c6a1563827ea6e6c7a8a5612e0cebf40d"
   }
  }
 },
 "nbformat": 4,
 "nbformat_minor": 2
}
