{
 "cells": [
  {
   "attachments": {},
   "cell_type": "markdown",
   "metadata": {},
   "source": [
    "サポートベクターマシン(SVM)は分類を予測するもの。"
   ]
  },
  {
   "cell_type": "code",
   "execution_count": null,
   "metadata": {},
   "outputs": [],
   "source": [
    "from sklearn.datasets import load_breast_cancer\n",
    "\n",
    "dataset = load_breast_cancer()\n",
    "X = dataset.data\n",
    "y = dataset.target"
   ]
  },
  {
   "attachments": {},
   "cell_type": "markdown",
   "metadata": {},
   "source": [
    "Hold-out(ホールド・アウト法)  \n",
    "サンプルデータを何かしらに分割して学習用データとテストデータにし、学習用データを使って学習させテストデータで確かめさせる方法  \n",
    "一般的"
   ]
  },
  {
   "cell_type": "code",
   "execution_count": null,
   "metadata": {},
   "outputs": [],
   "source": [
    "from sklearn.model_selection import train_test_split\n",
    "\n",
    "X_train,X_text,y_train,y_test = train_test_split(X,y,test_size=0.2,shuffle=True,stratify=y)"
   ]
  },
  {
   "cell_type": "code",
   "execution_count": null,
   "metadata": {},
   "outputs": [],
   "source": [
    "from sklearn.svm import SVC\n",
    "\n",
    "svc = SVC()\n",
    "svc.fit(X_train,y_train)"
   ]
  },
  {
   "attachments": {},
   "cell_type": "markdown",
   "metadata": {},
   "source": [
    "テストさせて精度を確かめる"
   ]
  },
  {
   "cell_type": "code",
   "execution_count": null,
   "metadata": {},
   "outputs": [],
   "source": [
    "from sklearn.metrics import accuracy_score\n",
    "\n",
    "y_test_pred = svc.predict(X_test)\n",
    "accuracy_score(y_test,y_test_pred)"
   ]
  },
  {
   "attachments": {},
   "cell_type": "markdown",
   "metadata": {},
   "source": [
    "UMAPを使ってビジュアル化"
   ]
  },
  {
   "cell_type": "code",
   "execution_count": null,
   "metadata": {},
   "outputs": [],
   "source": [
    "#UMAP\n",
    "import seaborn as sns\n",
    "import umap.umap_ as umap\n",
    "from scipy.sparse.csgraph import connected_components\n",
    "import matplotlib.pyplot as plt\n",
    "\n",
    "model_umap = umap.UMAP(n_components=2,n_neighbors=100)\n",
    "vecs_list = model_umap.fit_transform(X_train)\n",
    "\n",
    "X=vecs_list[:,0]\n",
    "Y=vecs_list[:,1]\n",
    "\n",
    "sns.set(font=\"Hiragino Maru Gothic Pro\",context=\"talk\")\n",
    "plt.figure(figsize=(8,8))\n",
    "\n",
    "color_codes = {0:\"red\",1:\"blue\",2:\"green\",3:\"yellow\"}\n",
    "colors = [color_codes[x] for x in y_train]\n",
    "plt.scatter(X,Y,color=colors)"
   ]
  }
 ],
 "metadata": {
  "kernelspec": {
   "display_name": "base",
   "language": "python",
   "name": "python3"
  },
  "language_info": {
   "codemirror_mode": {
    "name": "ipython",
    "version": 3
   },
   "file_extension": ".py",
   "mimetype": "text/x-python",
   "name": "python",
   "nbconvert_exporter": "python",
   "pygments_lexer": "ipython3",
   "version": "3.9.12 (main, Apr  4 2022, 05:22:27) [MSC v.1916 64 bit (AMD64)]"
  },
  "orig_nbformat": 4,
  "vscode": {
   "interpreter": {
    "hash": "b4d0e632781729ed6de5ccbeaa14892c6a1563827ea6e6c7a8a5612e0cebf40d"
   }
  }
 },
 "nbformat": 4,
 "nbformat_minor": 2
}
